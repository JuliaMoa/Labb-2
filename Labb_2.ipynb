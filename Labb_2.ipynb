{
 "cells": [
  {
   "cell_type": "code",
   "execution_count": 4,
   "id": "52633a52",
   "metadata": {},
   "outputs": [
    {
     "name": "stdout",
     "output_type": "stream",
     "text": [
      "[False  True False  True  True False  True  True  True False  True  True\n",
      "  True  True False False  True  True False False  True  True False False\n",
      "  True False False False False False False  True False  True  True False\n",
      " False False False False  True  True  True  True  True  True False False\n",
      "  True  True False False  True False False False False False False  True\n",
      " False  True  True False  True  True  True  True  True False  True  True\n",
      " False False False  True  True  True  True False  True False  True  True\n",
      " False  True  True False False  True False  True False  True False False\n",
      " False False  True  True False False  True False  True  True False  True\n",
      " False  True  True  True  True False False False False False  True  True\n",
      " False False  True False False  True  True False  True False  True False\n",
      "  True  True  True  True False  True  True  True  True False False False\n",
      " False False False False  True False]\n"
     ]
    },
    {
     "data": {
      "text/plain": [
       "Text(0, 0.5, 'Height')"
      ]
     },
     "execution_count": 4,
     "metadata": {},
     "output_type": "execute_result"
    },
    {
     "data": {
      "image/png": "[encoded data removed]",
      "text/plain": [
       "<Figure size 640x480 with 1 Axes>"
      ]
     },
     "metadata": {},
     "output_type": "display_data"
    }
   ],
   "source": [
    "import numpy as np\n",
    "import matplotlib.pyplot as plt \n",
    "\n",
    "training_data = r\"C:\\Users\\jubel\\python-programming-JULIA-SALDE\\Labs\\datapoints.txt\" #training data \n",
    "test_data = r\"testpoints.txt\"\n",
    "\n",
    "x = [] #list for width and height\n",
    "y = [] #list for the labels, \n",
    "\n",
    "with open(training_data, \"r\") as f: \n",
    "    next(f)\n",
    "\n",
    "    for line in f:\n",
    "        width, height, label = line.strip().split(\",\") #taking away spaces and diving into the 3 parts\n",
    "        x.append([float(width), float(height)]) #adding to list x\n",
    "        y.append(int(label)) #adding to list y\n",
    "\n",
    "x = np.array(x)   #transformin into arrays\n",
    "y = np.array(y)\n",
    "y = (y == 1) # convert to bool, instead of 1 and 0 we get True and False\n",
    "\n",
    "\n",
    "print(y)\n",
    "\n",
    "widths =  x[ : , 0] #from x defining where the widths are, first element\n",
    "heights = x[ : , 1] # heights are in x on second spot in each line \n",
    "\n",
    "#(y) is flagging True which is Pichachu (former 1)\n",
    "#(~y) flips so True is Pichu (former 0)\n",
    "plt.plot(widths[y], heights[y], 'o',color= 'yellow', label= \"Pichachu\") \n",
    "plt.plot(widths[~y], heights[~y], 'o', color= \"black\", label= \"Pichu\")\n",
    "plt.legend() #label \n",
    "plt.grid()\n",
    "plt.xlabel(\"Width\")\n",
    "plt.ylabel(\"Height\")\n",
    "\n"
   ]
  },
  {
   "cell_type": "code",
   "execution_count": 7,
   "id": "5bda637d",
   "metadata": {},
   "outputs": [
    {
     "name": "stdout",
     "output_type": "stream",
     "text": [
      "Please use numbers\n",
      "Please use numbers\n",
      "Please use numbers\n",
      "Please use numbers\n"
     ]
    },
    {
     "data": {
      "text/plain": [
       "'Pikachu'"
      ]
     },
     "execution_count": 7,
     "metadata": {},
     "output_type": "execute_result"
    }
   ],
   "source": [
    "#here we manually added the test points into an array\n",
    "x_test = np.array([[25,32], \n",
    "                   [24.2, 31.5],\n",
    "                   [22, 34],\n",
    "                   [20.5, 34]])\n",
    "\n",
    "\n",
    "def Euclidean(point_1, point_2): # function to calculate distance\n",
    "\n",
    "    distance = np.sqrt(np.square(point_1[0] - point_2[0]) + np.square(point_1[1] - point_2[1])) \n",
    "    return distance\n",
    "\n",
    "\n",
    "def Calculate_ALL_distances(test_point, training_points):\n",
    "\n",
    "    distances = [] \n",
    "    for training_point in training_points: #looping through the array of training points...\n",
    "        d = Euclidean(test_point, training_point) #... we get the distance to the test point\n",
    "        distances.append(d) #saving the distance between the test point and each training point\n",
    "    return distances \n",
    "\n",
    "distances = Calculate_ALL_distances(x_test[1], x) #saving the list outside of function \n",
    "\n",
    "\n",
    "#we now want the index of the shortest distance so then check with y who it belongs to \n",
    "\n",
    "def Pitchu_or_Pikachu(test_point, training_points):\n",
    "    distances = Calculate_ALL_distances(test_point, training_points)\n",
    "    index_smallest_distances = np.argmin(distances) #finding the smallest distance\n",
    "\n",
    "    if y[index_smallest_distances] == True: #the matching index in y \n",
    "        return \"Pikachu\"\n",
    "    else:\n",
    "        return \"Pichu\" \n",
    "\n",
    "Pitchu_or_Pikachu(x_test[3], x)\n",
    "\n",
    "while True:\n",
    "    try: \n",
    "        input_weight = int(input(\"Write a weight: )\"))\n",
    "        if not input_weight > 0:\n",
    "            raise ValueError(\"It must be a positive number\")\n",
    "        break\n",
    "    except ValueError:\n",
    "        print(\"Please use numbers\")\n",
    "\n",
    "while True:\n",
    "    try: \n",
    "        input_height = int(input(\"Write a height: )\"))\n",
    "        if not input_height > 0:\n",
    "            raise ValueError(\"It must be a positive number\")\n",
    "        break\n",
    "    except ValueError:\n",
    "        print(\"Please use numbers\")\n",
    "\n",
    "\n",
    "\n",
    "input_testpoint = []\n",
    "input_testpoint.append(input_weight)\n",
    "input_testpoint.append(input_height)\n",
    "\n",
    "Pitchu_or_Pikachu(input_testpoint, x)\n"
   ]
  },
  {
   "cell_type": "code",
   "execution_count": null,
   "id": "c032011f",
   "metadata": {},
   "outputs": [
    {
     "name": "stdout",
     "output_type": "stream",
     "text": [
      "[0 3 4]\n"
     ]
    }
   ],
   "source": [
    "A = np.array([1, 22, 9, 6, 7, 8])\n",
    "#print(np.sort(A))\n",
    "sorted_index = np.argsort(A)  \n",
    "#function that finds the indices of the 10 smallest distances in x - argsort\n",
    "print(sorted_index[0:3])"
   ]
  }
 ],
 "metadata": {
  "kernelspec": {
   "display_name": "DS_ENV",
   "language": "python",
   "name": "python3"
  },
  "language_info": {
   "codemirror_mode": {
    "name": "ipython",
    "version": 3
   },
   "file_extension": ".py",
   "mimetype": "text/x-python",
   "name": "python",
   "nbconvert_exporter": "python",
   "pygments_lexer": "ipython3",
   "version": "3.13.5"
  }
 },
 "nbformat": 4,
 "nbformat_minor": 5
}
